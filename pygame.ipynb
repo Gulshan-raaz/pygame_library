{
  "nbformat": 4,
  "nbformat_minor": 0,
  "metadata": {
    "colab": {
      "name": "pygame.ipynb",
      "provenance": [],
      "authorship_tag": "ABX9TyPJ+ByZNNQuf9hR2VM39c0z",
      "include_colab_link": true
    },
    "kernelspec": {
      "name": "python3",
      "display_name": "Python 3"
    }
  },
  "cells": [
    {
      "cell_type": "markdown",
      "metadata": {
        "id": "view-in-github",
        "colab_type": "text"
      },
      "source": [
        "<a href=\"https://colab.research.google.com/github/Gulshan-raaz/pygame_library/blob/master/pygame.ipynb\" target=\"_parent\"><img src=\"https://colab.research.google.com/assets/colab-badge.svg\" alt=\"Open In Colab\"/></a>"
      ]
    },
    {
      "cell_type": "code",
      "metadata": {
        "id": "7jMlGNjsttie",
        "colab_type": "code",
        "colab": {
          "base_uri": "https://localhost:8080/",
          "height": 34
        },
        "outputId": "5dd417bc-9130-4ad2-cb0d-c1d4a251ebd3"
      },
      "source": [
        "!pip3 install pygame\n"
      ],
      "execution_count": 10,
      "outputs": [
        {
          "output_type": "stream",
          "text": [
            "Requirement already satisfied: pygame in /usr/local/lib/python3.6/dist-packages (1.9.6)\n"
          ],
          "name": "stdout"
        }
      ]
    },
    {
      "cell_type": "code",
      "metadata": {
        "id": "aAfB0seltnqh",
        "colab_type": "code",
        "colab": {}
      },
      "source": [
        "import pygame\n",
        "import math\n",
        "import os\n",
        "os.environ[\"SDL_VIDEODRIVER\"] = \"dummy\""
      ],
      "execution_count": 0,
      "outputs": []
    },
    {
      "cell_type": "code",
      "metadata": {
        "id": "sZP5bJuOu-ra",
        "colab_type": "code",
        "colab": {
          "base_uri": "https://localhost:8080/",
          "height": 34
        },
        "outputId": "b2f96315-df86-41b5-b261-59d772a258d5"
      },
      "source": [
        "pygame.init()"
      ],
      "execution_count": 12,
      "outputs": [
        {
          "output_type": "execute_result",
          "data": {
            "text/plain": [
              "(5, 1)"
            ]
          },
          "metadata": {
            "tags": []
          },
          "execution_count": 12
        }
      ]
    },
    {
      "cell_type": "code",
      "metadata": {
        "id": "dQ2so6Mjt5Mq",
        "colab_type": "code",
        "colab": {}
      },
      "source": [
        "screen=pygame.display.set_mode((800,600))\n",
        "pygame.display.set_caption(\"LOL GAME\")"
      ],
      "execution_count": 0,
      "outputs": []
    },
    {
      "cell_type": "code",
      "metadata": {
        "id": "gs8CrIIGuQdC",
        "colab_type": "code",
        "colab": {}
      },
      "source": [
        "white = (255, 255, 255)\n",
        "playerimg=pygame.image.load(\"space.png\")\n",
        "playerx=370\n",
        "playery=550\n",
        "playerxchange=0\n",
        "enemyname=\"GFNAME\"\n",
        "enemyx=370\n",
        "enemyy=50\n",
        "enemyxchange=0.3\n",
        "enemyychange=30\n",
        "score_font = pygame.font.SysFont(\"comicsansms\", 30)"
      ],
      "execution_count": 0,
      "outputs": []
    },
    {
      "cell_type": "code",
      "metadata": {
        "id": "aczX79jGuuqF",
        "colab_type": "code",
        "colab": {}
      },
      "source": [
        "bulletimg=pygame.image.load(\"bullet.png\")\n",
        "bulletx=0\n",
        "bullety=520\n",
        "bulletxchange=0\n",
        "bulletychange=2\n",
        "bullet_state=\"ready\"\n"
      ],
      "execution_count": 0,
      "outputs": []
    },
    {
      "cell_type": "code",
      "metadata": {
        "id": "OrOOHg1IvGAc",
        "colab_type": "code",
        "colab": {}
      },
      "source": [
        "def firebullet(x,y):\n",
        "    global bullet_state\n",
        "    bullet_state=\"fire\"\n",
        "    screen.blit(bulletimg,(x,y+10))"
      ],
      "execution_count": 0,
      "outputs": []
    },
    {
      "cell_type": "code",
      "metadata": {
        "id": "1sD7GlGBvI9H",
        "colab_type": "code",
        "colab": {}
      },
      "source": [
        "def enemy():\n",
        "    value = score_font.render( str(enemyname), True, white)\n",
        "    screen.blit(value,(enemyx,enemyy) )"
      ],
      "execution_count": 0,
      "outputs": []
    },
    {
      "cell_type": "code",
      "metadata": {
        "id": "R7dyH9ThvMJV",
        "colab_type": "code",
        "colab": {}
      },
      "source": [
        "def player1():\n",
        "    screen.blit(playerimg,(playerx,playery))"
      ],
      "execution_count": 0,
      "outputs": []
    },
    {
      "cell_type": "code",
      "metadata": {
        "id": "mKIvqAOfvPNa",
        "colab_type": "code",
        "colab": {}
      },
      "source": [
        "def iscollision(enemyx,enemyy,bulletx,bullety):\n",
        "    pass"
      ],
      "execution_count": 0,
      "outputs": []
    },
    {
      "cell_type": "code",
      "metadata": {
        "id": "U9lboscbvSDD",
        "colab_type": "code",
        "colab": {}
      },
      "source": [
        "run=True\n",
        "while  run:\n",
        "    screen.fill((0,0,0))\n",
        "    for event in pygame.event.get():\n",
        "        if event.type == pygame.QUIT:\n",
        "            run=False\n",
        "        if event.type==pygame.KEYDOWN:\n",
        "            if event.key==pygame.K_LEFT:\n",
        "                playerxchange= -0.5\n",
        "            if event.key==pygame.K_RIGHT:\n",
        "                playerxchange= 0.5\n",
        "            if event.key==pygame.K_UP:\n",
        "                if bullet_state is \"ready\":\n",
        "\n",
        "                    bulletx=playerx\n",
        "                    firebullet(bulletx,bullety)\n",
        "\n",
        "        if event.type==pygame.KEYUP:\n",
        "            if event.key==pygame.K_LEFT or event.key==pygame.K_RIGHT:\n",
        "                playerxchange=0\n",
        "\n",
        "                    \n",
        "\n",
        "    if bullet_state is \"fire\":\n",
        "        firebullet(bulletx,bullety)\n",
        "        bullety=bullety-bulletychange\n",
        "\n",
        "    if bullety<=0:\n",
        "        bullety=520\n",
        "        bullet_state=\"ready\"\n",
        "    playerx=playerx+playerxchange\n",
        "    enemyx=enemyx+enemyxchange\n",
        "    if playerx<=0:\n",
        "        playerx=0\n",
        "       \n",
        "    elif playerx>=768:\n",
        "        playerx=768\n",
        "    if enemyx<=0:\n",
        "        enemyxchange=0.3\n",
        "        enemyy=enemyy+enemyychange\n",
        "    elif  enemyx>=720:\n",
        "        enemyxchange=-0.3\n",
        "        enemyy=enemyy+enemyychange\n",
        "    \n",
        "    \n",
        "    \n",
        "    enemy()\n",
        "    player1()\n",
        "    pygame.display.update()\n"
      ],
      "execution_count": 0,
      "outputs": []
    }
  ]
}